{
  "nbformat": 4,
  "nbformat_minor": 0,
  "metadata": {
    "colab": {
      "provenance": [],
      "authorship_tag": "ABX9TyMMK6XJ2an+8w+ZeArNoyq6",
      "include_colab_link": true
    },
    "kernelspec": {
      "name": "python3",
      "display_name": "Python 3"
    },
    "language_info": {
      "name": "python"
    }
  },
  "cells": [
    {
      "cell_type": "markdown",
      "metadata": {
        "id": "view-in-github",
        "colab_type": "text"
      },
      "source": [
        "<a href=\"https://colab.research.google.com/github/LuisManuelCatzoliSoriano/EDP-I/blob/main/FormasC.ipynb\" target=\"_parent\"><img src=\"https://colab.research.google.com/assets/colab-badge.svg\" alt=\"Open In Colab\"/></a>"
      ]
    },
    {
      "cell_type": "code",
      "execution_count": 1,
      "metadata": {
        "colab": {
          "base_uri": "https://localhost:8080/"
        },
        "id": "ggEMdN7HkI_9",
        "outputId": "9cecb19c-0578-4a3f-add4-d269323c1d8a"
      },
      "outputs": [
        {
          "output_type": "stream",
          "name": "stdout",
          "text": [
            "Coeficientes: A=1, B=-3, C=-10\n",
            "Discriminante: 19\n",
            "Tipo de EDP: hiperbólica\n",
            "\n",
            "--- Transformación lineal definida manualmente ---\n",
            "ξ = -4 x + 2 y\n",
            "η = 10 x + 2 y\n",
            "\n",
            "EDP en las nuevas variables (ξ, η):\n",
            "      2                 2                   2           \n",
            "     ∂                 ∂                   ∂            \n",
            "- 60⋅───(u(ξ, η)) + 24⋅───(u(ξ, η)) - 232⋅─────(u(ξ, η))\n",
            "       2                 2                ∂ξ ∂η         \n",
            "     ∂η                ∂ξ                               \n",
            "\n",
            "Coeficientes:\n",
            "u_ξξ: 24\n",
            "u_ξη: -232\n",
            "u_ηη: -60\n"
          ]
        }
      ],
      "source": [
        "import sympy as sp\n",
        "\n",
        "# FUNCION: Clasificación de la EDP\n",
        "def determinar_tipo_EDP(EDP, u, vars):\n",
        "    x, y = vars\n",
        "    u_xx = u.diff(x, 2)\n",
        "    u_xy = u.diff(x, y)\n",
        "    u_yy = u.diff(y, 2)\n",
        "\n",
        "    coef_A = EDP.coeff(u_xx)\n",
        "    coef_2B = EDP.coeff(u_xy)\n",
        "    coef_B = coef_2B / 2\n",
        "    coef_C = EDP.coeff(u_yy)\n",
        "\n",
        "    discriminante = coef_B**2 - coef_A * coef_C\n",
        "\n",
        "    if sp.simplify(discriminante) > 0:\n",
        "        tipo = \"hiperbólica\"\n",
        "    elif sp.simplify(discriminante) == 0:\n",
        "        tipo = \"parabólica\"\n",
        "    else:\n",
        "        tipo = \"elíptica\"\n",
        "\n",
        "    return discriminante, tipo\n",
        "\n",
        "\n",
        "x, y = sp.symbols('x y')\n",
        "u = sp.Function('u')(x, y)\n",
        "\n",
        "A = sp.Rational(1)\n",
        "B = sp.Rational(-3)\n",
        "C = sp.Rational(-10)\n",
        "\n",
        "EDP = A * u.diff(x, 2) + 2 * B * u.diff(x, y) + C * u.diff(y, 2)\n",
        "\n",
        "discriminante, tipo = determinar_tipo_EDP(EDP, u, (x, y))\n",
        "\n",
        "print(f\"Coeficientes: A={A}, B={B}, C={C}\")\n",
        "print(f\"Discriminante: {discriminante}\")\n",
        "print(f\"Tipo de EDP: {tipo}\")\n",
        "\n",
        "print(\"\\n--- Transformación lineal definida manualmente ---\")\n",
        "\n",
        "sqrt_disc = sp.sqrt(B**2 - 4 * A * C)\n",
        "\n",
        "alpha = -(B + sqrt_disc)\n",
        "beta = 2 * A\n",
        "gamma = -(B - sqrt_disc)\n",
        "delta = 2 * A\n",
        "\n",
        "print(f\"ξ = {alpha} x + {beta} y\")\n",
        "print(f\"η = {gamma} x + {delta} y\")\n",
        "\n",
        "xi = alpha * x + beta * y\n",
        "eta = gamma * x + delta * y\n",
        "\n",
        "xi_sym, eta_sym = sp.symbols('xi eta')\n",
        "u_new = sp.Function('u')(xi_sym, eta_sym)\n",
        "\n",
        "u_xi = u_new.diff(xi_sym)\n",
        "u_eta = u_new.diff(eta_sym)\n",
        "u_xixi = u_new.diff(xi_sym, 2)\n",
        "u_etaeta = u_new.diff(eta_sym, 2)\n",
        "u_xieta = u_new.diff(xi_sym, eta_sym)\n",
        "\n",
        "u_xx = alpha**2 * u_xixi + 2 * alpha * gamma * u_xieta + gamma**2 * u_etaeta\n",
        "u_xy = alpha * beta * u_xixi + (alpha * delta + beta * gamma) * u_xieta + gamma * delta * u_etaeta\n",
        "u_yy = beta**2 * u_xixi + 2 * beta * delta * u_xieta + delta**2 * u_etaeta\n",
        "\n",
        "EDP_nueva = A * u_xx + 2 * B * u_xy + C * u_yy\n",
        "\n",
        "print(\"\\nEDP en las nuevas variables (ξ, η):\")\n",
        "sp.pprint(sp.simplify(EDP_nueva))\n",
        "\n",
        "print(\"\\nCoeficientes:\")\n",
        "print(\"u_ξξ:\", EDP_nueva.coeff(u_xixi))\n",
        "print(\"u_ξη:\", EDP_nueva.coeff(u_xieta))\n",
        "print(\"u_ηη:\", EDP_nueva.coeff(u_etaeta))\n"
      ]
    }
  ]
}